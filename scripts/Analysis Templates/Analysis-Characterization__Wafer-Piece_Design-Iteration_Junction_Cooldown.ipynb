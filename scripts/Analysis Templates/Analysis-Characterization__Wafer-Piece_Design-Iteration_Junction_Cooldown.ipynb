{
 "cells": [
  {
   "cell_type": "code",
   "execution_count": null,
   "metadata": {},
   "outputs": [],
   "source": [
    "%load_ext autoreload\n",
    "%autoreload 2\n",
    "\n",
    "import h5py\n",
    "import numpy as np\n",
    "\n",
    "import matplotlib.pyplot as plt\n",
    "plt.style.use('presentation')\n",
    "\n",
    "from shabanipy.jj.plotting_general import plot_vi_dr_curve\n",
    "from shabanipy.jj.utils import extract_switching_current\n",
    "from shabanipy.jj.iv_analysis import extract_critical_current, analyse_vi_curve\n",
    "\n",
    "#: Name of the sample that must appear in the measurement name usually of the form \"{Wafer}-{Piece}_{Design}-{Iteration}_{Junction}_{Cooldown}\"\n",
    "SAMPLE_NAME =\n",
    "SAMPLE_ID =\n",
    "\n",
    "#: hdf5 file number \n",
    "FILE_NUM =\n",
    "\n",
    "#: Path to store generated files\n",
    "PATH = (f\"/Users/bh/Desktop/Code/Topological JJ/Samples/{SAMPLE_NAME}/{SAMPLE_ID}\")\n",
    "\n",
    "#: Name of generated processed data file\n",
    "PROCESSED_DATA_NAME = (f\"{PATH}/Data/{SAMPLE_ID}_processed-data-{FILE_NUM}.hdf5\")\n",
    "\n",
    "h = h5py.File(PROCESSED_DATA_NAME, 'r')\n",
    "\n",
    "field_y = 'In-plane Field - Y::0'\n",
    "field_z = 'In-plane Field - Z::0'\n",
    "\n",
    "f = h['Data'][f'{field_y}&{field_z}']"
   ]
  },
  {
   "cell_type": "code",
   "execution_count": null,
   "metadata": {},
   "outputs": [],
   "source": [
    "data = np.array(f[\"Voltage Drop\"])\n",
    "scaled_v_drop = np.array(f[\"ScaledVoltage\"])\n",
    "bias = np.array(f[\"Bias\"])\n",
    "dR = np.array(f[\"dR\"])"
   ]
  },
  {
   "cell_type": "code",
   "execution_count": null,
   "metadata": {},
   "outputs": [],
   "source": [
    "\"\"\"analyse_vi_curve: Voltage threshold in V above which the junction is not considered to carry a\n",
    "supercurrent anymore. Used in the determination of the critical current. Usually of the order of a couple e-5 or e-4. \n",
    "Default is 1e-4.\"\"\"\n",
    "ic_voltage_threshold = 1e-4\n",
    "\"\"\"extract_switching_current: Similar to above but lower in value.  Usually of the order of a couple e-5\"\"\"\n",
    "switching_bias_threshold = 2.35e-5\n",
    "\n",
    "\"\"\"Positive bias value above which the data can be used to extract the\n",
    "normal resistance. Default is 10e-6.\"\"\"\n",
    "high_bias_threshold = 5e-6\n",
    "\n",
    "x = analyse_vi_curve(bias,scaled_v_drop, ic_voltage_threshold, high_bias_threshold)\n",
    "y = extract_switching_current(np.array([bias]),np.array([scaled_v_drop]),switching_bias_threshold)\n",
    "\n",
    "print('Rn Positive: ',x[0], 'Ω')\n",
    "print('Rn Negative: ',x[1], 'Ω')\n",
    "print('analyse_vi_curve - Ic Positive: ',x[2]*1e6, 'µA')\n",
    "print('analyse_vi_curve - Ic Negative: ',x[3]*1e6, 'µA')\n",
    "print('extract_switching_current - Ic Positive: ',y*1e6, 'µA')\n",
    "print('Ie Positive: ',x[4]*1e6, 'µA')\n",
    "print('Ie Negative: ',x[5]*1e6, 'µA')"
   ]
  },
  {
   "cell_type": "code",
   "execution_count": null,
   "metadata": {},
   "outputs": [],
   "source": [
    "plot_vi_dr_curve(bias,scaled_v_drop,dR,\n",
    "                text = f'R$_n$ Positive: {np.round(x[0],0)}Ω \\nR$_n$ Negative: {np.round(x[1],0)}Ω \\n'\\\n",
    "                f'I$_c$ Positive: {np.round(x[2]*1e6,2)}µA \\nI$_c$ Negative: {np.round(x[3]*1e6,2)}µA\\n'\\\n",
    "                f'I$_c$R$_n$ Positive: {np.round(int(x[0])*x[2]*1e6,2)}µV \\nI$_c$R$_n$ Negative: {np.round(int(x[1])*x[3]*1e6,2)}µV\\n'\\\n",
    "                f'I$_e$ Positive: {np.round(x[4]*1e6,2)}µA \\nI$_e$ Negative: {np.round(x[5]*1e6,2)}µA',\n",
    "#                 savgol_windowl = 3, savgol_polyorder = 1,\n",
    "#                 bias_limits = ,\n",
    "#                 fig_size = ,\n",
    "                 \n",
    "                )\n",
    "plt.savefig(f'Figs/Characterization/Characterization-map_{SAMPLE_ID}_field-y:{field_y[16:]}_field-z:{field_z[16:]}_{FILE_NUM}.pdf', bbox_inches = 'tight')"
   ]
  }
 ],
 "metadata": {
  "kernelspec": {
   "display_name": "Python 3",
   "language": "python",
   "name": "python3"
  },
  "language_info": {
   "codemirror_mode": {
    "name": "ipython",
    "version": 3
   },
   "file_extension": ".py",
   "mimetype": "text/x-python",
   "name": "python",
   "nbconvert_exporter": "python",
   "pygments_lexer": "ipython3",
   "version": "3.8.1"
  }
 },
 "nbformat": 4,
 "nbformat_minor": 4
}
