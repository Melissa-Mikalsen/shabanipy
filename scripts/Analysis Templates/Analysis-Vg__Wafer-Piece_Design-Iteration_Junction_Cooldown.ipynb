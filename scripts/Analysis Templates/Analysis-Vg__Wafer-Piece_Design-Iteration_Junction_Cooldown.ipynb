{
 "cells": [
  {
   "cell_type": "code",
   "execution_count": null,
   "metadata": {},
   "outputs": [],
   "source": [
    "import h5py\n",
    "import numpy as np\n",
    "\n",
    "import matplotlib.pyplot as plt\n",
    "\n",
    "from shabanipy.jj.plotting_general import plot_vg_vs_bias, plot_vg_vs_Ic_Rn, plot_vg_vs_IcRn\n",
    "\n",
    "#: Name of the sample that must appear in the measurement name usually of the form \"{Wafer}-{Piece}_{Design}-{Iteration}_{Junction}_{Cooldown}\"\n",
    "SAMPLE_NAME = \"{Wafer}-{Piece}_{Design}-{Iteration}_{Junction}_{Cooldown}\"\n",
    "\n",
    "#: hdf5 file number\n",
    "FILE_NUM =\n",
    "\n",
    "#: Path to store generated files\n",
    "PATH = (\"/Users/bh/Desktop/Code/Topological JJ/Samples/...\")\n",
    "\n",
    "#: Name of generated processed data file\n",
    "PROCESSED_DATA_NAME = (f\"{SAMPLE_NAME}_processed-data-{FILE_NUM}.hdf5\")\n",
    "\n",
    "h = h5py.File(PROCESSED_DATA_NAME, 'r')\n",
    "\n",
    "field_y = 'In-plane Field - Y::'\n",
    "field_z = 'In-plane Field - Z::'\n",
    "\n",
    "f = h['Data'][f'{field_y}'][f'{field_z}']"
   ]
  },
  {
   "cell_type": "code",
   "execution_count": null,
   "metadata": {},
   "outputs": [],
   "source": [
    "Vg = np.array(f['SM3 - Source voltage'])\n",
    "v_drop = np.array(f[\"Voltage Drop\"])\n",
    "scaled_v_drop = np.array(f[\"ScaledVoltage\"])\n",
    "bias = np.array(f[\"Bias\"])\n",
    "dVdI = np.diff(np.array(f[\"ScaledVoltage\"]))/np.diff(np.array(f[\"Bias\"]))"
   ]
  },
  {
   "cell_type": "code",
   "execution_count": null,
   "metadata": {},
   "outputs": [],
   "source": [
    "plot_vg_vs_bias(Vg,bias,dVdI)\n",
    "plt.savefig(f\"figs/vg_vs_bias__{SAMPLE_NAME}_field-y:{field_y[16:]}_field-z:{field_z[16:]}_{FILE_NUM}.pdf\", dpi = 400, bbox_inches = 'tight')"
   ]
  },
  {
   "cell_type": "code",
   "execution_count": null,
   "metadata": {},
   "outputs": [],
   "source": [
    "ic_voltage_threshold = 5e-6\n",
    "high_bias_threshold = 1e-6\n",
    "\n",
    "plot_vg_vs_Ic_Rn(Vg,bias,scaled_v_drop,\n",
    "                    ic_voltage_threshold = ic_voltage_threshold,\n",
    "                    high_bias_threshold = high_bias_threshold,\n",
    "plt.savefig(f\"figs/vg_vs_Ic_Rn__{SAMPLE_NAME}_field-y:{field_y[16:]}_field-z:{field_z[16:]}_{FILE_NUM}.pdf\", dpi = 400, bbox_inches = 'tight')"
   ]
  },
  {
   "cell_type": "code",
   "execution_count": null,
   "metadata": {},
   "outputs": [],
   "source": [
    "plot_vg_vs_IcRn(Vg,bias,scaled_v_drop,\n",
    "                    ic_voltage_threshold = ic_voltage_threshold,\n",
    "                    high_bias_threshold = high_bias_threshold,\n",
    "plt.savefig(f\"figs/vg_vs_IcRn__{SAMPLE_NAME}_field-y:{field_y[16:]}_field-z:{field_z[16:]}_{FILE_NUM}.pdf\", dpi = 400, bbox_inches = 'tight')"
   ]
  }
 ],
 "metadata": {
  "kernelspec": {
   "display_name": "Python 3",
   "language": "python",
   "name": "python3"
  },
  "language_info": {
   "codemirror_mode": {
    "name": "ipython",
    "version": 3
   },
   "file_extension": ".py",
   "mimetype": "text/x-python",
   "name": "python",
   "nbconvert_exporter": "python",
   "pygments_lexer": "ipython3",
   "version": "3.8.1"
  }
 },
 "nbformat": 4,
 "nbformat_minor": 4
}
