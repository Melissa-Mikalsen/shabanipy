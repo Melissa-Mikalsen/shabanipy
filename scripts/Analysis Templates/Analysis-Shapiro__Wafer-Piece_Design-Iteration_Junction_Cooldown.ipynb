{
 "cells": [
  {
   "cell_type": "code",
   "execution_count": null,
   "metadata": {},
   "outputs": [],
   "source": [
    "%load_ext autoreload\n",
    "%autoreload 2\n",
    "\n",
    "import h5py\n",
    "import numpy as np\n",
    "import matplotlib.pyplot as plt\n",
    "plt.style.use('presentation')\n",
    "from scipy.ndimage import gaussian_filter\n",
    "from scipy.signal import savgol_filter\n",
    "from shabanipy.jj.utils import (correct_voltage_offset,\n",
    "                                compute_resistance)\n",
    "from shabanipy.jj.shapiro.utils import correct_voltage_offset_per_power\n",
    "from shabanipy.jj.shapiro.binning import bin_power_shapiro_steps,extract_step_weight\n",
    "from shabanipy.jj.shapiro.plotting_shapiro import (plot_differential_resistance_map,\n",
    "                                           plot_shapiro_histogram,\n",
    "                                           plot_step_weights)\n",
    "\n",
    "#: Name of the sample that must appear in the measurement name usually of the form \"{Wafer}-{Piece}_{Design}-{Iteration}_{Junction}_{Cooldown}\"\n",
    "SAMPLE_NAME = \"{Wafer}-{Piece}_{Design}-{Iteration}\"\n",
    "SAMPLE_ID = \"{Wafer}-{Piece}_{Design}-{Iteration}_{Junction}_{Cooldown}\"\n",
    "\n",
    "#: hdf5 file number\n",
    "FILE_NUM = ''\n",
    "\n",
    "#: Path to store generated files\n",
    "PATH = (f\"/Users/bh/Desktop/Code/Topological JJ/Samples/{SAMPLE_NAME}/{SAMPLE_ID}\")\n",
    "\n",
    "#: Name of generated processed data file\n",
    "PROCESSED_DATA_NAME = (f\"{PATH}/Data/{SAMPLE_ID}_processed-data-{FILE_NUM}.hdf5\")\n",
    "\n",
    "h = h5py.File(PROCESSED_DATA_NAME, 'r')\n",
    "\n",
    "temp = 'Temperature::'\n",
    "field_y = 'In-plane Field - Y::'\n",
    "field_z = 'In-plane Field - Z::'\n",
    "freq = 'Microwave: Frequency::'\n",
    "freq_val = float(freq[22:])\n",
    "vg = 'Vg::'\n",
    "\n",
    "f = h['Data'][f'{freq}&{temp}'][f'{field_y}&{field_z}'][f'{vg}']"
   ]
  },
  {
   "cell_type": "code",
   "execution_count": null,
   "metadata": {
    "tags": []
   },
   "outputs": [],
   "source": [
    "data = np.array(f[\"Voltage Drop\"])\n",
    "scaled_v_drop = np.array(f[\"ScaledVoltage\"])\n",
    "bias = np.array(f[\"Bias\"])\n",
    "dVdI = np.diff(np.array(f[\"ScaledVoltage\"]))/np.diff(np.array(f[\"Bias\"]))\n",
    "dR = np.array(f[\"dR\"])\n",
    "power = np.array(f[\"Microwave - Power\"])"
   ]
  },
  {
   "cell_type": "code",
   "execution_count": null,
   "metadata": {},
   "outputs": [],
   "source": [
    "coarse_corrected_data = correct_voltage_offset(bias,scaled_v_drop,\n",
    "                                               n_peak_width = 2, # To identify the zero voltage region the algorithm computes the derivative and look for peaks signaling the transition out of the superconducting domain. This parameter specifies how many width of the peaks to ignore when determining the actual zero voltage region.\n",
    "#                                                bound = , # Bounds around midpoint to look for peaks (in uA)\n",
    "#                                                index = , # Index to select only a single trace to use to determine the offset.\n",
    "                                              )\n",
    "fine_corrected_data = correct_voltage_offset_per_power(power,bias, coarse_corrected_data,\n",
    "                                                       frequency = freq_val,\n",
    "                                                       n_peak_width = 2, # Same as above\n",
    "                                                       n_std_as_bin = 1, # Number of standard deviation (as determined from the superconducting plateau of the lowest power measurement).\n",
    "#                                                      bound = , # Bounds around midpoint to look for peaks (in uA)\n",
    "                                                        )\n",
    "dr_bias, dr = compute_resistance(bias,fine_corrected_data)"
   ]
  },
  {
   "cell_type": "code",
   "execution_count": null,
   "metadata": {
    "tags": []
   },
   "outputs": [],
   "source": [
    "# power_offset = \n",
    "\n",
    "plot_differential_resistance_map(power, bias, np.abs(dR),\n",
    "#                                  savgol_windowl = 3, savgol_polyorder = 1,\n",
    "#                                  power_offset = power_offset,\n",
    "#                                  cvmax = , cvmin = ,\n",
    "#                                  power_limits = ,\n",
    "#                                  bias_limits = ,\n",
    "#                                  fig_size = ,\n",
    "#                                  transpose = ,\n",
    "                                )\n",
    "\n",
    "plt.savefig(f'Figs/Shapiro/dR-map_{SAMPLE_ID}_freq:{freq[22:]}_field-y:{field_y[16:]}_field-z:{field_z[16:]}_Vg:{vg[4:]}_{FILE_NUM}.pdf', bbox_inches = 'tight')"
   ]
  },
  {
   "cell_type": "code",
   "execution_count": null,
   "metadata": {},
   "outputs": [],
   "source": [
    "voltage_bins, histo_counts = bin_power_shapiro_steps(power, bias, fine_corrected_data, \n",
    "                                                     frequency = freq_val,\n",
    "                                                     step_fraction = 0.01 # Fraction of a shapiro step to use when binning the data.\n",
    "                                                    )\n",
    "\n",
    "I_c =\n",
    "\n",
    "plot_shapiro_histogram(power, voltage_bins, histo_counts,\n",
    "                       I_c = I_c,\n",
    "#                        savgol_windowl = 3, savgol_polyorder = 1,\n",
    "#                        power_offset = power_offset,\n",
    "#                        cvmax = , cvmin = ,\n",
    "#                        power_limits = ,\n",
    "#                        bias_limits = ,\n",
    "#                        mark_steps = [0,-1,-2],\n",
    "#                        mark_steps_limit = ,\n",
    "#                        fig_size = ,\n",
    "#                        transpose = True,\n",
    "                      )\n",
    "\n",
    "plt.savefig(f'Figs/Shapiro/histo-map_{SAMPLE_ID}_freq:{freq[22:]}_field-y:{field_y[16:]}_field-z:{field_z[16:]}_Vg:{vg[4:]}_{FILE_NUM}.pdf', bbox_inches = 'tight')"
   ]
  },
  {
   "cell_type": "code",
   "execution_count": null,
   "metadata": {},
   "outputs": [],
   "source": [
    "voltage_bins, histo_counts = bin_power_shapiro_steps(power, bias, fine_corrected_data, \n",
    "                                                     frequency = freq_val,\n",
    "                                                     step_fraction = 0.01 # Fraction of a shapiro step to use when binning the data.\n",
    "                                                    )\n",
    "\n",
    "plot_step_weights(power, voltage_bins, histo_counts,\n",
    "                  steps = [-3,-2,-1,0,1,2,3],\n",
    "                  ic = I_c*1e-6,\n",
    "#                   rn = ,\n",
    "#                   savgol_windowl = 3, savgol_polyorder = 1,\n",
    "#                   power_offset = power_offset,\n",
    "#                   counts_limits = \n",
    "#                   power_limits = ,\n",
    "#                   fig_size = ,\n",
    "                    )\n",
    "\n",
    "plt.savefig(f'Figs/Shapiro/steps-weights_{SAMPLE_ID}_freq:{freq[22:]}_field-y:{field_y[16:]}_field-z:{field_z[16:]}_Vg:{vg[4:]}_{FILE_NUM}.pdf', bbox_inches = 'tight')"
   ]
  }
 ],
 "metadata": {
  "kernelspec": {
   "display_name": "Python 3",
   "language": "python",
   "name": "python3"
  },
  "language_info": {
   "codemirror_mode": {
    "name": "ipython",
    "version": 3
   },
   "file_extension": ".py",
   "mimetype": "text/x-python",
   "name": "python",
   "nbconvert_exporter": "python",
   "pygments_lexer": "ipython3",
   "version": "3.7.6"
  }
 },
 "nbformat": 4,
 "nbformat_minor": 4
}
