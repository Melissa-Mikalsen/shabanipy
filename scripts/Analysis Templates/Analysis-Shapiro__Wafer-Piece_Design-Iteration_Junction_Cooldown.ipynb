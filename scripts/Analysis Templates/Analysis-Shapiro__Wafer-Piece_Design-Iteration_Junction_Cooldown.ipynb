{
 "cells": [
  {
   "cell_type": "code",
   "execution_count": null,
   "metadata": {},
   "outputs": [],
   "source": [
    "import h5py\n",
    "import numpy as np\n",
    "import matplotlib.pyplot as plt\n",
    "from scipy.ndimage import gaussian_filter\n",
    "from scipy.signal import savgol_filter\n",
    "from shabanipy.jj.utils import (correct_voltage_offset,\n",
    "                                compute_resistance)\n",
    "from shabanipy.jj.shapiro.utils import correct_voltage_offset_per_power\n",
    "from shabanipy.jj.shapiro.binning import bin_power_shapiro_steps,extract_step_weight\n",
    "from shabanipy.jj.shapiro.plotting_shapiro import (plot_differential_resistance_map,\n",
    "                                           plot_shapiro_histogram,\n",
    "                                           plot_step_weights)\n",
    "\n",
    "#: Name of the sample that must appear in the measurement name usually of the form \"{Wafer}-{Piece}_{Design}-{Iteration}_{Junction}_{Cooldown}\"\n",
    "SAMPLE_NAME = \"{Wafer}-{Piece}_{Design}-{Iteration}\"\n",
    "SAMPLE_ID = \"{Wafer}-{Piece}_{Design}-{Iteration}_{Junction}_{Cooldown}\"\n",
    "\n",
    "#: hdf5 file number\n",
    "FILE_NUM = ''\n",
    "\n",
    "#: Path to store generated files\n",
    "PATH = (f\"/Users/bh/Desktop/Code/Topological JJ/Samples/{SAMPLE_NAME}/{SAMPLE_ID}\")\n",
    "\n",
    "#: Name of generated processed data file\n",
    "PROCESSED_DATA_NAME = (f\"{PATH}/Data/{SAMPLE_ID}_processed-data-{FILE_NUM}.hdf5\")\n",
    "\n",
    "h = h5py.File(PROCESSED_DATA_NAME, 'r')\n",
    "\n",
    "field_y = 'In-plane Field - Y\n",
    "field_z = 'In-plane Field - Z'\n",
    "freq = 'Microwave: Frequency::'\n",
    "freq_val = float(freq[22:])\n",
    "vg = 'Vg::'\n",
    "\n",
    "f = h['Data'][f'{freq}'][f'{field_y}'][f'{field_z}'][f'{vg}']"
   ]
  },
  {
   "cell_type": "code",
   "execution_count": null,
   "metadata": {
    "tags": []
   },
   "outputs": [],
   "source": [
    "data = np.array(f[\"Voltage Drop\"])\n",
    "scaled_v_drop = np.array(f[\"ScaledVoltage\"])\n",
    "bias = np.array(f[\"Bias\"])\n",
    "dVdI = np.diff(np.array(f[\"ScaledVoltage\"]))/np.diff(np.array(f[\"Bias\"]))\n",
    "dR = np.array(f[\"dR\"])\n",
    "power = np.array(f[\"Microwave - Power\"])"
   ]
  },
  {
   "cell_type": "code",
   "execution_count": null,
   "metadata": {},
   "outputs": [],
   "source": [
    "coarse_corrected_data = correct_voltage_offset(bias,data,n_peak_width = 1)\n",
    "fine_corrected_data = correct_voltage_offset_per_power(power,bias,\n",
    "                                                       coarse_corrected_data,frequency = freq_val,\n",
    "                                                       n_peak_width = 1, n_std_as_bin = 1)"
   ]
  },
  {
   "cell_type": "code",
   "execution_count": null,
   "metadata": {
    "tags": []
   },
   "outputs": [],
   "source": [
    "dr_bias, dr = compute_resistance(bias,fine_corrected_data)\n",
    "\n",
    "# power_offset = \n",
    "\n",
    "plot_differential_resistance_map(power, bias, dr,\n",
    "                                 power_offset = power_offset,\n",
    "                                 cvmax = 120)\n",
    "\n",
    "plt.savefig(f'Figs/Shapiro/dR-map_{SAMPLE_ID}_freq:{freq[22:]}_field-y:{field_y[16:]}_field-z:{field_z[16:]}_Vg:{Vg[4:]}_{FILE_NUM}.pdf', bbox_inches = 'tight')"
   ]
  },
  {
   "cell_type": "code",
   "execution_count": null,
   "metadata": {},
   "outputs": [],
   "source": [
    "I_c =\n",
    "\n",
    "voltage_bins, histo_counts = bin_power_shapiro_steps(power, bias, fine_corrected_data, \n",
    "                                                     frequency = freq_val, step_fraction = 0.01)\n",
    "\n",
    "plot_shapiro_histogram(power, voltage_bins,\n",
    "                       histo_counts,savgol_windowl =3,\n",
    "                       savgol_polyorder = 1,\n",
    "                       I_c = I_c,\n",
    "                       transpose = True,\n",
    "                       mark_steps = [0,-1,-2])\n",
    "\n",
    "plt.savefig(f'Figs/Shapiro/histo-map_{SAMPLE_ID}_freq:{freq[22:]}_field-y:{field_y[16:]}_field-z:{field_z[16:]}_Vg:{Vg[4:]}_{FILE_NUM}.pdf', bbox_inches = 'tight')"
   ]
  },
  {
   "cell_type": "code",
   "execution_count": null,
   "metadata": {},
   "outputs": [],
   "source": [
    "voltage_bins, histo_counts = bin_power_shapiro_steps(power, bias, fine_corrected_data, \n",
    "                                                     frequency = freq_val, step_fraction = 0.1)\n",
    "\n",
    "plot_step_weights(power, voltage_bins, histo_counts,\n",
    "                  steps = [-3,-2,-1,0,1,2,3],\n",
    "                  savgol_windowl = 13,\n",
    "                  savgol_polyorder = 1,\n",
    "                  ic = I_c*1e-6,\n",
    "                  counts_limits = [0,0.5])\n",
    "\n",
    "plt.savefig(f'Figs/Shapiro/steps-weights_{SAMPLE_ID}_freq:{freq[22:]}_field-y:{field_y[16:]}_field-z:{field_z[16:]}_Vg:{Vg[4:]}_{FILE_NUM}.pdf', bbox_inches = 'tight')"
   ]
  }
 ],
 "metadata": {
  "kernelspec": {
   "display_name": "Python 3",
   "language": "python",
   "name": "python3"
  },
  "language_info": {
   "codemirror_mode": {
    "name": "ipython",
    "version": 3
   },
   "file_extension": ".py",
   "mimetype": "text/x-python",
   "name": "python",
   "nbconvert_exporter": "python",
   "pygments_lexer": "ipython3",
   "version": "3.8.1"
  }
 },
 "nbformat": 4,
 "nbformat_minor": 4
}
