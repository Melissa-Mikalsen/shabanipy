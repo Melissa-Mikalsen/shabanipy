{
 "cells": [
  {
   "cell_type": "code",
   "execution_count": null,
   "metadata": {},
   "outputs": [],
   "source": [
    "import h5py\n",
    "import numpy as np\n",
    "\n",
    "import matplotlib.pyplot as plt\n",
    "\n",
    "from shabanipy.jj.plotting_general import (plot_fraunhofer, plot_extracted_switching_current,\n",
    "                                           plot_extracted_critical_current, plot_current_distribution)\n",
    "\n",
    "#: Name of the sample that must appear in the measurement name usually of the form \"{Wafer}-{Piece}_{Design}-{Iteration}_{Junction}_{Cooldown}\"\n",
    "SAMPLE_NAME = \"{Wafer}-{Piece}_{Design}-{Iteration}\"\n",
    "SAMPLE_ID = \"{Wafer}-{Piece}_{Design}-{Iteration}_{Junction}_{Cooldown}\"\n",
    "\n",
    "#: hdf5 file number\n",
    "FILE_NUM = ''\n",
    "\n",
    "#: Path to store generated files\n",
    "PATH = (f\"/Users/bh/Desktop/Code/Topological JJ/Samples/{SAMPLE_NAME}/{SAMPLE_ID}\")\n",
    "\n",
    "#: Name of generated processed data file\n",
    "PROCESSED_DATA_NAME = (f\"{PATH}/Data/{SAMPLE_ID}_processed-data-{FILE_NUM}.hdf5\")\n",
    "\n",
    "h = h5py.File(PROCESSED_DATA_NAME, 'r')\n",
    "\n",
    "field_y = 'In-plane Field - Y::'\n",
    "field_z = 'In-plane Field - Z::'\n",
    "vg = 'Vg::'\n",
    "\n",
    "f = h['Data'][f'{field_y}&{field_z}'][f'{vg}']"
   ]
  },
  {
   "cell_type": "code",
   "execution_count": null,
   "metadata": {},
   "outputs": [],
   "source": [
    "out_field = np.array(f['X - Magnet Source - Source current'])\n",
    "v_drop = np.array(f[\"Voltage Drop\"])\n",
    "scaled_v_drop = np.array(f[\"ScaledVoltage\"])\n",
    "bias = np.array(f[\"Bias\"])\n",
    "# dR = np.array(f[\"dR\"])\n",
    "dVdI = np.diff(np.array(f[\"ScaledVoltage\"]))/np.diff(np.array(f[\"Bias\"]))"
   ]
  },
  {
   "cell_type": "code",
   "execution_count": null,
   "metadata": {
    "tags": []
   },
   "outputs": [],
   "source": [
    "# plot_fraunhofer(out_field,bias,np.abs(dR),\n",
    "plot_fraunhofer(out_field,bias,dVdI,\n",
    "                current_field_conversion = 35.705, #9th floor vector, 10th floor vector: 35.927\n",
    "#                 savgol_windowl = 5, savgol_polyorder = 1,\n",
    "#                 cvmax = , cvmin = ,\n",
    "#                 bias_limits = ,\n",
    "#                 out_field_limits = ,\n",
    "#                 fig_size = ,\n",
    "               )\n",
    "\n",
    "plt.savefig(f\"Figs/Fraunhofer/fraun__{SAMPLE_ID}_field-y:{field_y[16:]}_field-z:{field_z[16:]}_Vg:{vg[4:]}_{FILE_NUM}.pdf\", dpi = 400, bbox_inches = 'tight')"
   ]
  },
  {
   "cell_type": "code",
   "execution_count": null,
   "metadata": {},
   "outputs": [],
   "source": [
    "threshold = \"\"\"Since there's a shift in the DMM the superconducting region isn't exactly around zero. \n",
    "                This value is not constant and needs to be adjusted.This threshold sets the voltage range around zero used \n",
    "                to determine the swicthing current. Usually the threshold is of the order of 1e-4 or 1e-6 depending on if correct_v_offset\n",
    "                is True or False.\"\"\"\n",
    "sav_wind = 3\n",
    "plot_extracted_switching_current(out_field, bias, scaled_v_drop,\n",
    "                                 threshold = threshold,\n",
    "                                 current_field_conversion = 35.705, #9th floor vector, 10th floor vector: 35.927\n",
    "#                                  correct_v_offset = , # Correct voltage offset when extracting switching current or not. Default is True\n",
    "#                                  symmetrize_fraun = , # Symmetrize the Fraunhofer or not(out-of-plane field axis). Symmetrizing is best when the Fraunhofer field range is uneven. Default is False\n",
    "#                                  savgol_windowl = sav_wind, savgol_polyorder = 1,\n",
    "#                                  bias_limits = ,\n",
    "#                                  out_field_limits = ,\n",
    "#                                  fig_size = ,\n",
    "                                 \n",
    "                                )"
   ]
  },
  {
   "cell_type": "code",
   "execution_count": null,
   "metadata": {},
   "outputs": [],
   "source": [
    "plot_current_distribution(out_field, bias, scaled_v_drop,\n",
    "                          threshold = threshold,\n",
    "                          jj_length = 950e-9,\n",
    "                          jj_width = 3e-6,\n",
    "                          current_field_conversion = 35.705, #9th floor vector, 10th floor vector: 35.927\n",
    "#                           correct_v_offset = , # Correct voltage offset when extracting switching current or not. Default is True\n",
    "#                           symmetrize_fraun = , # Symmetrize the Fraunhofer or not(out-of-plane field axis). Symmetrizing is best when the Fraunhofer field range is uneven. Default is False\n",
    "#                           savgol_windowl = sav_wind, savgol_polyorder = 1,\n",
    "#                           x_limits = ,\n",
    "#                           jx_limits = ,\n",
    "#                           fig_size = ,\n",
    "                         )\n",
    "plt.savefig(f\"Figs/Fraunhofer/current_dis__{SAMPLE_ID}_field-y:{field_y[16:]}_field-z:{field_z[16:]}_Vg:{vg[4:]}_{FILE_NUM}.pdf\", dpi = 400, bbox_inches = 'tight')"
   ]
  }
 ],
 "metadata": {
  "kernelspec": {
   "display_name": "Python 3",
   "language": "python",
   "name": "python3"
  },
  "language_info": {
   "codemirror_mode": {
    "name": "ipython",
    "version": 3
   },
   "file_extension": ".py",
   "mimetype": "text/x-python",
   "name": "python",
   "nbconvert_exporter": "python",
   "pygments_lexer": "ipython3",
   "version": "3.8.1"
  }
 },
 "nbformat": 4,
 "nbformat_minor": 4
}
