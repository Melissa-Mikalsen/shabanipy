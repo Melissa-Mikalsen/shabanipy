{
 "cells": [
  {
   "cell_type": "code",
   "execution_count": null,
   "metadata": {},
   "outputs": [],
   "source": [
    "import h5py\n",
    "import numpy as np\n",
    "\n",
    "import matplotlib.pyplot as plt\n",
    "plt.style.use('presentation')\n",
    "\n",
    "from shabanipy.jj.plotting_general import plot_inplane_vs_outofplane\n",
    "\n",
    "#: Name of the sample that must appear in the measurement name usually of the form \"{Wafer}-{Piece}_{Design}-{Iteration}_{Junction}_{Cooldown}\"\n",
    "SAMPLE_NAME =\n",
    "SAMPLE_ID =\n",
    "\n",
    "#: hdf5 file number\n",
    "FILE_NUM = ''\n",
    "\n",
    "#: Path to store generated files\n",
    "PATH = (f\"/Users/bh/Desktop/Code/Topological JJ/Samples/{SAMPLE_NAME}/{SAMPLE_ID}\")\n",
    "\n",
    "#: Name of generated processed data file\n",
    "PROCESSED_DATA_NAME = (f\"{PATH}/Data/{SAMPLE_ID}_processed-data-{FILE_NUM}.hdf5\")\n",
    "\n",
    "h = h5py.File(PROCESSED_DATA_NAME, 'r')\n",
    "\n",
    "ang = 'In-plane Field Angle::'\n",
    "# vg = 'Vg::'\n",
    "\n",
    "f = h['Data'][f'{ang}']"
   ]
  },
  {
   "cell_type": "code",
   "execution_count": null,
   "metadata": {},
   "outputs": [],
   "source": [
    "out_field = np.array(f['vector magnet - Field X'])\n",
    "dR = np.array(f[\"dR\"])\n",
    "in_field = np.array(f['dummy - Value 1'])"
   ]
  },
  {
   "cell_type": "code",
   "execution_count": null,
   "metadata": {},
   "outputs": [],
   "source": [
    "plot_inplane_vs_outofplane(in_field, out_field, np.abs(dR*1e8)\n",
    "#                 savgol_windowl = , savgol_polyorder = ,\n",
    "#                 cvmax = ,\n",
    "#                 cvmin = ,\n",
    "#                 bias_limits = ,\n",
    "#                 out_field_limits = ,\n",
    "#                 fig_size = ,\n",
    "                          )"
   ]
  },
  {
   "cell_type": "code",
   "execution_count": null,
   "metadata": {},
   "outputs": [],
   "source": []
  }
 ],
 "metadata": {
  "kernelspec": {
   "display_name": "Python 3",
   "language": "python",
   "name": "python3"
  },
  "language_info": {
   "codemirror_mode": {
    "name": "ipython",
    "version": 3
   },
   "file_extension": ".py",
   "mimetype": "text/x-python",
   "name": "python",
   "nbconvert_exporter": "python",
   "pygments_lexer": "ipython3",
   "version": "3.8.1"
  }
 },
 "nbformat": 4,
 "nbformat_minor": 4
}
