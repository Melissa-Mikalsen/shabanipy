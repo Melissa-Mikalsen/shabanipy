{
 "cells": [
  {
   "cell_type": "code",
   "execution_count": null,
   "metadata": {},
   "outputs": [],
   "source": [
    "import h5py\n",
    "import numpy as np\n",
    "\n",
    "import matplotlib.pyplot as plt\n",
    "plt.style.use('presentation')\n",
    "\n",
    "from shabanipy.jj.plotting_general import plot_inplane_vs_bias, plot_inplane_vs_Ic_Rn, plot_inplane_vs_IcRn\n",
    "\n",
    "#: Name of the sample that must appear in the measurement name usually of the form \"{Wafer}-{Piece}_{Design}-{Iteration}_{Junction}_{Cooldown}\"\n",
    "SAMPLE_NAME = \"{Wafer}-{Piece}_{Design}-{Iteration}\"\n",
    "SAMPLE_ID = \"{Wafer}-{Piece}_{Design}-{Iteration}_{Junction}_{Cooldown}\"\n",
    "\n",
    "#: hdf5 file number\n",
    "FILE_NUM = ''\n",
    "\n",
    "#: Path to store generated files\n",
    "PATH = (f\"/Users/bh/Desktop/Code/Topological JJ/Samples/{SAMPLE_NAME}/{SAMPLE_ID}\")\n",
    "\n",
    "#: Name of generated processed data file\n",
    "PROCESSED_DATA_NAME = (f\"{PATH}/Data/{SAMPLE_ID}_processed-data-{FILE_NUM}.hdf5\")\n",
    "\n",
    "h = h5py.File(PROCESSED_DATA_NAME, 'r')\n",
    "\n",
    "# field_y = 'In-plane Field - Y\n",
    "field_z = 'In-plane Field - Z'\n",
    "vg = 'Vg::'\n",
    "\n",
    "f = h['Data'][f'{field_z}'][f'{vg}']\n",
    "#[f'{field_y}']"
   ]
  },
  {
   "cell_type": "code",
   "execution_count": null,
   "metadata": {},
   "outputs": [],
   "source": [
    "in_field = np.array(f['Vector Magnet - Field Y'])\n",
    "v_drop = np.array(f[\"Voltage Drop\"])\n",
    "scaled_v_drop = np.array(f[\"ScaledVoltage\"])\n",
    "bias = np.array(f[\"Bias\"])\n",
    "dVdI = np.diff(np.array(f[\"ScaledVoltage\"]))/np.diff(np.array(f[\"Bias\"]))\n",
    "dR = np.array(f[\"dR\"])"
   ]
  },
  {
   "cell_type": "code",
   "execution_count": null,
   "metadata": {},
   "outputs": [],
   "source": [
    "plot_inplane_vs_bias(in_field, bias, np.abs(dR)\n",
    "#                      savgol_windowl = 3, savgol_polyorder = 1,\n",
    "#                      cvmax = , cvmin = ,\n",
    "#                      bias_limits = ,\n",
    "#                      in_field_limits = ,\n",
    "#                      fig_size = ,\n",
    "                    )\n",
    "\n",
    "plt.savefig(f\"Figs/In-plane Field/inplane_vs_bias__{SAMPLE_NAME}_field-z:{field_z[16:]}_Vg:{vg[4:]}_{FILE_NUM}.pdf\", dpi = 400, bbox_inches = 'tight')\n",
    "# plt.savefig(f\"Figs/In-plane Field/inplane_vs_bias__{SAMPLE_NAME}_field-y:{field_y[16:]}_Vg:{vg[4:]}_{FILE_NUM}.pdf\", dpi = 400, bbox_inches = 'tight')"
   ]
  },
  {
   "cell_type": "code",
   "execution_count": null,
   "metadata": {},
   "outputs": [],
   "source": [
    "\"\"\"Voltage threshold in V above which the junction is not considered to carry a\n",
    "supercurrent anymore. Used in the determination of the critical current. Usually of the order of a couple e-5 or e-4. \n",
    "Default is 1e-4.\"\"\"\n",
    "ic_voltage_threshold = \n",
    "\n",
    "\"\"\"Positive bias value above which the data can be used to extract the\n",
    "normal resistance. Default is 10e-6.\"\"\"\n",
    "high_bias_threshold =\n",
    "\n",
    "plot_inplane_vs_Ic_Rn(in_field, bias, scaled_v_drop,\n",
    "                      ic_voltage_threshold = ic_voltage_threshold,\n",
    "                      high_bias_threshold = high_bias_threshold,\n",
    "#                       savgol_windowl = 3, savgol_polyorder = 1,\n",
    "#                       ic_limits = ,\n",
    "#                       rn_limits = ,\n",
    "#                       in_field_limits = ,\n",
    "#                       fig_size = ,\n",
    "                     )\n",
    "\n",
    "plt.savefig(f\"Figs/In-plane Field/inplane_vs_Ic_Rn__{SAMPLE_NAME}_field-z:{field_z[16:]}_Vg:{vg[4:]}_{FILE_NUM}.pdf\", dpi = 400, bbox_inches = 'tight')\n",
    "# plt.savefig(f\"Figs/In-plane Field/inplane_vs_Ic_Rn__{SAMPLE_NAME}_field-y:{field_y[16:]}_Vg:{vg[4:]}_{FILE_NUM}.pdf\", dpi = 400, bbox_inches = 'tight')"
   ]
  },
  {
   "cell_type": "code",
   "execution_count": null,
   "metadata": {},
   "outputs": [],
   "source": [
    "plot_inplane_vs_IcRn(in_field, bias, scaled_v_drop,\n",
    "                     ic_voltage_threshold = ic_voltage_threshold,\n",
    "                     high_bias_threshold = high_bias_threshold,\n",
    "#                      savgol_windowl = 3, savgol_polyorder = 1,\n",
    "#                      icrn_limits = ,\n",
    "#                      in_field_limits = ,\n",
    "#                      fig_size = ,)\n",
    "\n",
    "plt.savefig(f\"Figs/In-plane Field/inplane_vs_IcRn__{SAMPLE_NAME}_field-z:{field_z[16:]}_Vg:{vg[4:]}_{FILE_NUM}.pdf\", dpi = 400, bbox_inches = 'tight')\n",
    "# plt.savefig(f\"Figs/In-plane Field/inplane_vs_IcRn__{SAMPLE_NAME}_field-y:{field_y[16:]}_Vg:{vg[4:]}_{FILE_NUM}.pdf\", dpi = 400, bbox_inches = 'tight')"
   ]
  }
 ],
 "metadata": {
  "kernelspec": {
   "display_name": "Python 3",
   "language": "python",
   "name": "python3"
  },
  "language_info": {
   "codemirror_mode": {
    "name": "ipython",
    "version": 3
   },
   "file_extension": ".py",
   "mimetype": "text/x-python",
   "name": "python",
   "nbconvert_exporter": "python",
   "pygments_lexer": "ipython3",
   "version": "3.8.1"
  }
 },
 "nbformat": 4,
 "nbformat_minor": 4
}
